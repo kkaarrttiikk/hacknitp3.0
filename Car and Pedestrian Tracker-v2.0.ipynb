{
 "cells": [
  {
   "cell_type": "code",
   "execution_count": 1,
   "metadata": {},
   "outputs": [],
   "source": [
    "import cv2"
   ]
  },
  {
   "cell_type": "code",
   "execution_count": 2,
   "metadata": {},
   "outputs": [],
   "source": [
    "# Video Source:\n",
    "# It can be video source or connected directly to the camera\n",
    "video = cv2.VideoCapture('images/Pedestrian vs Car Compilation 2015   Episode 1.mp4')"
   ]
  },
  {
   "cell_type": "code",
   "execution_count": 3,
   "metadata": {},
   "outputs": [],
   "source": [
    "# Classifier Files\n",
    "car_tracker_file = 'Haarcascades/carx.xml'\n",
    "pedestrian_tracker_file = 'Haarcascades/haarcascade_fullbody.xml'"
   ]
  },
  {
   "cell_type": "code",
   "execution_count": 4,
   "metadata": {},
   "outputs": [],
   "source": [
    "# Creating Car and Pedestrian Tracker\n",
    "car_tracker = cv2.CascadeClassifier(car_tracker_file)\n",
    "pedestrian_tracker = cv2.CascadeClassifier(pedestrian_tracker_file)"
   ]
  },
  {
   "cell_type": "code",
   "execution_count": 5,
   "metadata": {},
   "outputs": [],
   "source": [
    "while True:\n",
    "    \n",
    "    # Read the current frame\n",
    "    (read_successful, frame) = video.read()\n",
    "    \n",
    "    if read_successful:\n",
    "        # Converting into grayscale\n",
    "        grayscaled_frame = cv2.cvtColor(frame, cv2.COLOR_BGR2GRAY)\n",
    "    else:\n",
    "        break\n",
    "        \n",
    "    # Detect Cars\n",
    "    cars = car_tracker.detectMultiScale(grayscaled_frame)\n",
    "    # Detect Pedestrians\n",
    "    pedestrians = pedestrian_tracker.detectMultiScale(grayscaled_frame)\n",
    "    \n",
    "    # Draw the rectangles around the cars\n",
    "    for (x,y,w,h) in cars:\n",
    "        cv2.rectangle(frame, (x,y), (x+w, y+h), (0,0,255), 2)\n",
    "        \n",
    "    # Draw the rectangles around the pedestrians\n",
    "    for (x,y,w,h) in pedestrians:\n",
    "        cv2.rectangle(frame, (x,y), (x+w, y+h), (0,255,255), 2)\n",
    "        \n",
    "    # Displaying spotted cars\n",
    "    cv2.imshow(\"Kartik's Car and Pedestrian detector\", frame)\n",
    "    \n",
    "    # Dont autoclose (Wait and listen for a key press)\n",
    "    key = cv2.waitKey(1)\n",
    "    \n",
    "    # Stop if Q key is pressed\n",
    "    if key==81 or key==113:\n",
    "        break\n",
    "\n",
    "# Release the Video Capture Object\n",
    "video.release()"
   ]
  },
  {
   "cell_type": "code",
   "execution_count": null,
   "metadata": {},
   "outputs": [],
   "source": []
  }
 ],
 "metadata": {
  "kernelspec": {
   "display_name": "Python 3",
   "language": "python",
   "name": "python3"
  },
  "language_info": {
   "codemirror_mode": {
    "name": "ipython",
    "version": 3
   },
   "file_extension": ".py",
   "mimetype": "text/x-python",
   "name": "python",
   "nbconvert_exporter": "python",
   "pygments_lexer": "ipython3",
   "version": "3.8.5"
  }
 },
 "nbformat": 4,
 "nbformat_minor": 4
}
