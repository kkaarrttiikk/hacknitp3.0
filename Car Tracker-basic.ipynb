{
 "cells": [
  {
   "cell_type": "markdown",
   "metadata": {},
   "source": [
    "## NOTE: \n",
    "This is just basic version of car tracker\n",
    "Look for advanced version of car tracker i.e Car and Pedestrian tracker"
   ]
  },
  {
   "cell_type": "markdown",
   "metadata": {},
   "source": [
    "## Detecting cars from images "
   ]
  },
  {
   "cell_type": "code",
   "execution_count": 1,
   "metadata": {},
   "outputs": [],
   "source": [
    "import cv2"
   ]
  },
  {
   "cell_type": "code",
   "execution_count": 2,
   "metadata": {},
   "outputs": [],
   "source": [
    "# Img file\n",
    "img_file = 'images/cars.jpg'"
   ]
  },
  {
   "cell_type": "code",
   "execution_count": 3,
   "metadata": {},
   "outputs": [],
   "source": [
    "# Trained Car Classifier\n",
    "classifier_file = 'Haarcascades/cars.xml'"
   ]
  },
  {
   "cell_type": "code",
   "execution_count": 4,
   "metadata": {},
   "outputs": [],
   "source": [
    "# Create opencv image\n",
    "img = cv2.imread(img_file)"
   ]
  },
  {
   "cell_type": "code",
   "execution_count": 5,
   "metadata": {},
   "outputs": [],
   "source": [
    "# Convert to grayscale\n",
    "black_n_white = cv2.cvtColor(img, cv2.COLOR_BGR2GRAY)"
   ]
  },
  {
   "cell_type": "code",
   "execution_count": 6,
   "metadata": {},
   "outputs": [],
   "source": [
    "# Create car classifier\n",
    "car_tracker = cv2.CascadeClassifier(classifier_file)"
   ]
  },
  {
   "cell_type": "code",
   "execution_count": 7,
   "metadata": {},
   "outputs": [
    {
     "name": "stdout",
     "output_type": "stream",
     "text": [
      "[[509 270 171 171]\n",
      " [229 290 186 186]\n",
      " [420 296 116 116]]\n"
     ]
    }
   ],
   "source": [
    "# Detect Cars\n",
    "cars = car_tracker.detectMultiScale(black_n_white)\n",
    "print(cars)"
   ]
  },
  {
   "cell_type": "code",
   "execution_count": 8,
   "metadata": {},
   "outputs": [],
   "source": [
    "# Draw the rectangles around the cars\n",
    "\n",
    "##For 1 car\n",
    "# car1 = cars[0]\n",
    "# (x,y,w,h) = car1\n",
    "# cv2.rectangle(img, (x,y), (x+w, y+h), (0,0,255), 2)\n",
    "\n",
    "##For all cars\n",
    "for (x,y,w,h) in cars:\n",
    "    cv2.rectangle(img, (x,y), (x+w, y+h), (0,0,255), 2)\n",
    "    "
   ]
  },
  {
   "cell_type": "code",
   "execution_count": 9,
   "metadata": {},
   "outputs": [],
   "source": [
    "# Display the image with cars spotted\n",
    "cv2.imshow(\"Kartik's Car Detector\", img)"
   ]
  },
  {
   "cell_type": "code",
   "execution_count": 10,
   "metadata": {},
   "outputs": [
    {
     "data": {
      "text/plain": [
       "-1"
      ]
     },
     "execution_count": 10,
     "metadata": {},
     "output_type": "execute_result"
    }
   ],
   "source": [
    "# Dont autoclose (Wait and listen for a key press)\n",
    "cv2.waitKey()"
   ]
  },
  {
   "cell_type": "markdown",
   "metadata": {},
   "source": [
    "## Detecting Cars from Video or direct camera"
   ]
  },
  {
   "cell_type": "code",
   "execution_count": 5,
   "metadata": {},
   "outputs": [],
   "source": [
    "import cv2"
   ]
  },
  {
   "cell_type": "code",
   "execution_count": 6,
   "metadata": {},
   "outputs": [],
   "source": [
    "# Video Source will be car's front camera but for demonstration purpose video has been taken \n",
    "video = cv2.VideoCapture('images/Chasing Toyota Fortuner _ Aspire _ Highway Chase.mp4')"
   ]
  },
  {
   "cell_type": "code",
   "execution_count": 7,
   "metadata": {},
   "outputs": [],
   "source": [
    "# Trained car classifier\n",
    "classifier_file = 'Haarcascades/carx.xml'\n",
    "\n",
    "# Create car classifier\n",
    "car_tracker = cv2.CascadeClassifier(classifier_file)"
   ]
  },
  {
   "cell_type": "code",
   "execution_count": null,
   "metadata": {},
   "outputs": [],
   "source": [
    "# Runs forever until the car stops or crashes:)\n",
    "while True:\n",
    "    \n",
    "    # Read the current frame\n",
    "    (read_successful, frame) = video.read()\n",
    "    \n",
    "    if read_successful:\n",
    "        # Converting into grayscale\n",
    "        grayscaled_frame = cv2.cvtColor(frame, cv2.COLOR_BGR2GRAY)\n",
    "    else:\n",
    "        break\n",
    "        \n",
    "    # Detect Cars\n",
    "    cars = car_tracker.detectMultiScale(grayscaled_frame)\n",
    "    \n",
    "    # Draw the rectangles around the cars\n",
    "    for (x,y,w,h) in cars:\n",
    "        cv2.rectangle(frame, (x,y), (x+w, y+h), (0,0,255), 2)\n",
    "        \n",
    "    # Displaying spotted cars\n",
    "    cv2.imshow(\"Kartik's Car detector\", frame)\n",
    "    \n",
    "    # Dont autoclose (Wait and listen for a key press)\n",
    "    cv2.waitKey(1)\n",
    "    "
   ]
  },
  {
   "cell_type": "code",
   "execution_count": null,
   "metadata": {},
   "outputs": [],
   "source": []
  }
 ],
 "metadata": {
  "kernelspec": {
   "display_name": "Python 3",
   "language": "python",
   "name": "python3"
  },
  "language_info": {
   "codemirror_mode": {
    "name": "ipython",
    "version": 3
   },
   "file_extension": ".py",
   "mimetype": "text/x-python",
   "name": "python",
   "nbconvert_exporter": "python",
   "pygments_lexer": "ipython3",
   "version": "3.8.5"
  }
 },
 "nbformat": 4,
 "nbformat_minor": 4
}
